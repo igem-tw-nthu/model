{
 "cells": [
  {
   "cell_type": "markdown",
   "metadata": {},
   "source": [
    "# Concept\n",
    "This year 2018 iGEM NTHU_Taiwan aims to solve the Vibrio infection in aquaculture with bio-competiotion model. We are inspired by the peroidic patter of Lotka-Volterra model, and try to control the Vibrio population with engineered E.coli. \n"
   ]
  },
  {
   "cell_type": "markdown",
   "metadata": {},
   "source": [
    "## Math part\n",
    "###  Equation\n",
    "\n",
    "We modify from Lotka-Volterra model, with logistic population groth model, and the the decay rate of compound.\n",
    "\n",
    "$$\\begin{equation}\\begin{aligned}\n",
    "{{dV}\\over{dt}} &= (r_v - D)V - {{r_v} \\over {V_{max}}} V^2 -a VM\\\\\n",
    "{{dA} \\over {dt}} &= k_AV - \\lambda_A A\\\\\n",
    "{{dE} \\over {dt}} &= (r_E - D)E - {{r_E} \\over {E_{max}}} E^2 -a EA\\\\\n",
    "{{dN} \\over {dt}} &= k_NE - \\lambda_N N \n",
    "\\end{aligned}\\end{equation}$$\n",
    "\n",
    "\n",
    "<br>\n",
    "Because of the mechanism of quoro-sensing, we make a threshold of Vibrio secreting AHL\n",
    "\n",
    "$$V < V_t , \\ k_A= 0$$\n",
    "\n",
    "\n",
    "#### parameters\n",
    "\n",
    "#### unit (M)\n",
    "- V: Vibrio\n",
    "- A: AHL\n",
    "- E: E.coli\n",
    "- N: Nisin\n",
    "- ${V_t}$: threshold of Vibrio concentration to secrete AHL\n",
    "\n",
    "#### unit (hr-1)\n",
    "- ${r_v}$: groth rate of Vibrio   \n",
    "- ${V_{max}}$: max capacity of vibrio\n",
    "- ${k_A}$: secrete rate of AHL from Vibrio\n",
    "- ${\\lambda_A}$: decay rate of AHL\n",
    "\n",
    "- ${r_E}$: groth rate of E.coli\n",
    "- ${E_{max}}$: max capacity og E.coli\n",
    "- ${k_N}$: secrete rate of Nisin from E.coli\n",
    "- ${\\lambda_N}$: decay rate of Nisin\n",
    "\n",
    "- ${D}$ : dilution rate of pump\n",
    "\n",
    "\n"
   ]
  },
  {
   "cell_type": "markdown",
   "metadata": {},
   "source": [
    "## Code part\n",
    "Use python for short life.\n",
    "Matlab is another good choice, however it is unnecessary to install so much library and unusabel tool. "
   ]
  },
  {
   "cell_type": "code",
   "execution_count": 1,
   "metadata": {},
   "outputs": [],
   "source": [
    "import numpy as np\n",
    "from scipy.integrate import odeint\n",
    "\n",
    "import matplotlib.pyplot as plt\n",
    "import math\n",
    "from equation import lotVolRevised"
   ]
  },
  {
   "cell_type": "markdown",
   "metadata": {},
   "source": [
    "### Setting parameter \n",
    "In the experimental stage, we set the parameter with symmetry.\n",
    "\n",
    "In order to make this model more valuable, we will firstly check them from paper. If the time avaliable, our wet lab will modify the genetic expression and give all measurments of the parameters."
   ]
  },
  {
   "cell_type": "code",
   "execution_count": 2,
   "metadata": {},
   "outputs": [],
   "source": [
    "# initial condition\n",
    "vibrio_0 = 0.5\n",
    "ahl_0 = 0\n",
    "ecoli_0 = 0.1\n",
    "nisin_0 = 0\n",
    "\n",
    "# parameters \n",
    "## Vibrio and AHL associated\n",
    "Vibrio_GrothRate = 0.02\n",
    "Vibrio_MaxCapacity = 1\n",
    "Nisin_Vibrio_Binding_Strength = 0.05\n",
    "\n",
    "Ahl_Secrete_Ratio = 0.02\n",
    "Ahl_DecayRate = 0.01\n",
    "Ahl_Secrete_Threshod = 0\n",
    "\n",
    "## Ecoli and Nisin associated\n",
    "Ecoli_GrothRate = 0.02\n",
    "Ecoli_MaxCapacity = 1\n",
    "Ahl_Ecoli_Binding_Strength = 0.05\n",
    "\n",
    "Nsin_Sectete_Ratio = 0.03\n",
    "Nisin_DecayRate = 0.01\n",
    "\n",
    "## Mechenical associated\n",
    "Dilution_Rate = 0\n"
   ]
  },
  {
   "cell_type": "code",
   "execution_count": 3,
   "metadata": {},
   "outputs": [
    {
     "data": {
      "image/png": "[encoded data removed]",
      "text/plain": [
       "<Figure size 432x288 with 1 Axes>"
      ]
     },
     "metadata": {},
     "output_type": "display_data"
    }
   ],
   "source": [
    "# time interval\n",
    "t = np.arange(0,1000,0.1)\n",
    "\n",
    "# load data\n",
    "y0 = [vibrio_0, ahl_0, ecoli_0, nisin_0]\n",
    "params = (\n",
    "    Vibrio_GrothRate,\n",
    "    Vibrio_MaxCapacity,\n",
    "    Nisin_Vibrio_Binding_Strength,\n",
    "    Ahl_Secrete_Ratio,\n",
    "    Ahl_DecayRate,\n",
    "    Ahl_Secrete_Threshod,\n",
    "    Ecoli_GrothRate,\n",
    "    Ecoli_MaxCapacity,\n",
    "    Ahl_Ecoli_Binding_Strength,\n",
    "    Nsin_Sectete_Ratio,\n",
    "    Nisin_DecayRate,\n",
    "    Dilution_Rate\n",
    ")\n",
    "\n",
    "\n",
    "sol = odeint(lotVolRevised,y0,t,args=params)\n",
    "\n",
    "\n",
    "# create a figure and add a subplot(111)\n",
    "fig, ax = plt.subplots()\n",
    "\n",
    "ax.set_title('Revised model')\n",
    "ax.plot(t, sol[:,0], 'r', label='vibrio')\n",
    "ax.plot(t, sol[:,2], 'b', label='e-coli')\n",
    "ax.set(xlabel='time ($hr^{-1}$)')\n",
    "ax.set(ylabel='concentration (M)')\n",
    "# open the legend box\n",
    "ax.legend(loc='best')\n",
    "ax.grid()\n",
    "\n",
    "plt.show()\n",
    "\n"
   ]
  }
 ],
 "metadata": {
  "kernelspec": {
   "display_name": "Python 3",
   "language": "python",
   "name": "python3"
  },
  "language_info": {
   "codemirror_mode": {
    "name": "ipython",
    "version": 3
   },
   "file_extension": ".py",
   "mimetype": "text/x-python",
   "name": "python",
   "nbconvert_exporter": "python",
   "pygments_lexer": "ipython3",
   "version": "3.6.2"
  }
 },
 "nbformat": 4,
 "nbformat_minor": 2
}
