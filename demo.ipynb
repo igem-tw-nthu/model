{
 "cells": [
  {
   "cell_type": "markdown",
   "metadata": {},
   "source": [
    "### General equation\n",
    "\n",
    "We modify from Lotka-Volterra model, adding the decay rate.\n",
    "\n",
    "$$[\\dot {m_1}]= a[m_1] - b[m_1] \\cdot [Med]$$\n",
    "\n",
    "$$[\\dot {AHL}]= k_1[\\dot {m_1}] - \\lambda_1[AHL]$$ \n",
    "\n",
    "$$[\\dot {m_2}]= c[m_2]\\cdot [AHL]-d[m_2]$$\n",
    "\n",
    "$$[\\dot {Med}] = k_2[\\dot {m_2}] - \\lambda_2[Med]$$\n",
    " \n",
    "#### with constraint \n",
    "\n",
    "$$m_1 < m_t ,\\ k_1= 0$$"
   ]
  },
  {
   "cell_type": "code",
   "execution_count": 4,
   "metadata": {},
   "outputs": [],
   "source": [
    "import numpy as np\n",
    "from scipy.integrate import odeint\n",
    "\n",
    "import matplotlib.pyplot as plt\n",
    "import math\n",
    "\n",
    "# y: used to iterated\n",
    "# t: interaval array\n",
    "# a,b,c,d,lm1,lm2,k1,k2: params \n",
    "def lotVol(y,t,a,b,c,d,lm1,lm2,k1,k2,mt):\n",
    "    m1,ahl,m2,med = y\n",
    "\n",
    "    if m1<mt: k1=0\n",
    "    if ahl<0: ahl=0 \n",
    "    if med<0: med=0 \n",
    "    if m2<0: m2=0\n",
    "\n",
    "    dm1_dt = a*m1 - b*m1*med\n",
    "    dahl_dt = k1*dm1_dt - lm1*ahl\n",
    "    dm2_dt = c*m2*ahl - d*m2\n",
    "    dmed_dt = k2*dm2_dt - lm2*med\n",
    "\n",
    "    dydt = [ dm1_dt, dahl_dt, dm2_dt, dmed_dt ]\n",
    "\n",
    "    return dydt"
   ]
  },
  {
   "cell_type": "code",
   "execution_count": 1,
   "metadata": {},
   "outputs": [
    {
     "ename": "NameError",
     "evalue": "name 'np' is not defined",
     "output_type": "error",
     "traceback": [
      "\u001b[1;31m---------------------------------------------------------------------------\u001b[0m",
      "\u001b[1;31mNameError\u001b[0m                                 Traceback (most recent call last)",
      "\u001b[1;32m<ipython-input-1-ed6c0b169011>\u001b[0m in \u001b[0;36m<module>\u001b[1;34m()\u001b[0m\n\u001b[0;32m     19\u001b[0m \u001b[1;33m\u001b[0m\u001b[0m\n\u001b[0;32m     20\u001b[0m \u001b[1;31m# time interval\u001b[0m\u001b[1;33m\u001b[0m\u001b[1;33m\u001b[0m\u001b[0m\n\u001b[1;32m---> 21\u001b[1;33m \u001b[0mt\u001b[0m \u001b[1;33m=\u001b[0m \u001b[0mnp\u001b[0m\u001b[1;33m.\u001b[0m\u001b[0marange\u001b[0m\u001b[1;33m(\u001b[0m\u001b[1;36m0\u001b[0m\u001b[1;33m,\u001b[0m\u001b[1;36m100\u001b[0m\u001b[1;33m,\u001b[0m\u001b[1;36m0.1\u001b[0m\u001b[1;33m)\u001b[0m\u001b[1;33m\u001b[0m\u001b[0m\n\u001b[0m",
      "\u001b[1;31mNameError\u001b[0m: name 'np' is not defined"
     ]
    }
   ],
   "source": [
    "# initial condition\n",
    "vibrio_0 = 1\n",
    "ahl_0 = 0\n",
    "ecoli_0 = 1\n",
    "nisin_0 = 0\n",
    "\n",
    "# parameters \n",
    "Vibrio_GrothRate = 0.1\n",
    "Ahl_Vibrio_Ratio = 1\n",
    "Ahl_DecayRate = 0\n",
    "Ahl_Secrete_Threshod = 1\n",
    "\n",
    "Ecoli_GrothRate = 0.1\n",
    "Nsin_Ecoli_Ratio = 1\n",
    "Nisin_DecayRate = 0\n",
    "\n",
    "Nisin_Vibrio_Binding_Strength = 0.05\n",
    "Ahl_Ecoli_Binding_Strength = 0.5\n",
    "\n",
    "# time interval\n",
    "t = np.arange(0,100,0.1)\n"
   ]
  },
  {
   "cell_type": "code",
   "execution_count": 2,
   "metadata": {},
   "outputs": [
    {
     "ename": "NameError",
     "evalue": "name 'odeint' is not defined",
     "output_type": "error",
     "traceback": [
      "\u001b[1;31m---------------------------------------------------------------------------\u001b[0m",
      "\u001b[1;31mNameError\u001b[0m                                 Traceback (most recent call last)",
      "\u001b[1;32m<ipython-input-2-8787e6ef39b2>\u001b[0m in \u001b[0;36m<module>\u001b[1;34m()\u001b[0m\n\u001b[0;32m     13\u001b[0m \u001b[1;33m\u001b[0m\u001b[0m\n\u001b[0;32m     14\u001b[0m \u001b[1;33m\u001b[0m\u001b[0m\n\u001b[1;32m---> 15\u001b[1;33m \u001b[0msol\u001b[0m \u001b[1;33m=\u001b[0m \u001b[0modeint\u001b[0m\u001b[1;33m(\u001b[0m\u001b[0mlotVol\u001b[0m\u001b[1;33m,\u001b[0m\u001b[0my0\u001b[0m\u001b[1;33m,\u001b[0m\u001b[0mt\u001b[0m\u001b[1;33m,\u001b[0m\u001b[0margs\u001b[0m\u001b[1;33m=\u001b[0m\u001b[0mparams\u001b[0m\u001b[1;33m)\u001b[0m\u001b[1;33m\u001b[0m\u001b[0m\n\u001b[0m\u001b[0;32m     16\u001b[0m \u001b[0mplt\u001b[0m\u001b[1;33m.\u001b[0m\u001b[0mplot\u001b[0m\u001b[1;33m(\u001b[0m\u001b[0mt\u001b[0m\u001b[1;33m,\u001b[0m \u001b[0msol\u001b[0m\u001b[1;33m[\u001b[0m\u001b[1;33m:\u001b[0m\u001b[1;33m,\u001b[0m\u001b[1;36m0\u001b[0m\u001b[1;33m]\u001b[0m\u001b[1;33m,\u001b[0m \u001b[1;34m'r'\u001b[0m\u001b[1;33m,\u001b[0m \u001b[0mlabel\u001b[0m\u001b[1;33m=\u001b[0m\u001b[1;34m'vibrio'\u001b[0m\u001b[1;33m)\u001b[0m\u001b[1;33m\u001b[0m\u001b[0m\n\u001b[0;32m     17\u001b[0m \u001b[0mplt\u001b[0m\u001b[1;33m.\u001b[0m\u001b[0mplot\u001b[0m\u001b[1;33m(\u001b[0m\u001b[0mt\u001b[0m\u001b[1;33m,\u001b[0m \u001b[0msol\u001b[0m\u001b[1;33m[\u001b[0m\u001b[1;33m:\u001b[0m\u001b[1;33m,\u001b[0m\u001b[1;36m2\u001b[0m\u001b[1;33m]\u001b[0m\u001b[1;33m,\u001b[0m \u001b[1;34m'b'\u001b[0m\u001b[1;33m,\u001b[0m \u001b[0mlabel\u001b[0m\u001b[1;33m=\u001b[0m\u001b[1;34m'e-coli'\u001b[0m\u001b[1;33m)\u001b[0m\u001b[1;33m\u001b[0m\u001b[0m\n",
      "\u001b[1;31mNameError\u001b[0m: name 'odeint' is not defined"
     ]
    }
   ],
   "source": [
    "# load data\n",
    "y0 = [vibrio_0, ahl_0, ecoli_0, nisin_0]\n",
    "params = (\n",
    "    Vibrio_GrothRate, \n",
    "    Nisin_Vibrio_Binding_Strength, \n",
    "    Ecoli_GrothRate, \n",
    "    Ahl_Ecoli_Binding_Strength,\n",
    "    Ahl_DecayRate, \n",
    "    Nisin_DecayRate,\n",
    "    Ahl_Vibrio_Ratio,\n",
    "    Nsin_Ecoli_Ratio,\n",
    "    Ahl_Secrete_Threshod)\n",
    "\n",
    "\n",
    "sol = odeint(lotVol,y0,t,args=params)\n",
    "plt.plot(t, sol[:,0], 'r', label='vibrio')\n",
    "plt.plot(t, sol[:,2], 'b', label='e-coli')\n",
    "plt.legend(loc='best')\n",
    "plt.grid()\n",
    "plt.show()\n"
   ]
  },
  {
   "cell_type": "code",
   "execution_count": null,
   "metadata": {},
   "outputs": [],
   "source": []
  },
  {
   "cell_type": "code",
   "execution_count": null,
   "metadata": {},
   "outputs": [],
   "source": []
  },
  {
   "cell_type": "code",
   "execution_count": null,
   "metadata": {},
   "outputs": [],
   "source": []
  },
  {
   "cell_type": "code",
   "execution_count": null,
   "metadata": {},
   "outputs": [],
   "source": []
  },
  {
   "cell_type": "code",
   "execution_count": 2,
   "metadata": {},
   "outputs": [],
   "source": []
  },
  {
   "cell_type": "code",
   "execution_count": null,
   "metadata": {},
   "outputs": [],
   "source": []
  },
  {
   "cell_type": "code",
   "execution_count": null,
   "metadata": {},
   "outputs": [],
   "source": []
  },
  {
   "cell_type": "code",
   "execution_count": null,
   "metadata": {},
   "outputs": [],
   "source": []
  },
  {
   "cell_type": "code",
   "execution_count": null,
   "metadata": {},
   "outputs": [],
   "source": []
  },
  {
   "cell_type": "markdown",
   "metadata": {},
   "source": [
    "$$f(n) =\n",
    "\\begin{cases}\n",
    "n/2,  & \\text{if $n$ is even} \\\\\n",
    "3n+1, & \\text{if $n$ is odd}\n",
    "\\end{cases}$$"
   ]
  }
 ],
 "metadata": {
  "kernelspec": {
   "display_name": "Python 3",
   "language": "python",
   "name": "python3"
  },
  "language_info": {
   "codemirror_mode": {
    "name": "ipython",
    "version": 3
   },
   "file_extension": ".py",
   "mimetype": "text/x-python",
   "name": "python",
   "nbconvert_exporter": "python",
   "pygments_lexer": "ipython3",
   "version": "3.6.2"
  }
 },
 "nbformat": 4,
 "nbformat_minor": 2
}
